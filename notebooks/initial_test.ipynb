{
 "cells": [
  {
   "cell_type": "markdown",
   "metadata": {},
   "source": [
    "# MMDetection Tutorial\n",
    "\n",
    "Welcome to MMDetection! This is the official colab tutorial for using MMDetection. In this tutorial, you will learn\n",
    "- Perform inference with a MMDet detector.\n",
    "- Train a new detector with a new dataset.\n",
    "\n",
    "Let's start!"
   ]
  },
  {
   "cell_type": "code",
   "execution_count": null,
   "metadata": {},
   "outputs": [],
   "source": [
    "from mmdet.apis import init_detector, inference_detector, show_result_pyplot\n",
    "import mmcv"
   ]
  },
  {
   "cell_type": "code",
   "execution_count": null,
   "metadata": {},
   "outputs": [],
   "source": [
    "# Get current wd and change to repository root\n",
    "%pwd\n",
    "%cd /home/johan/aigri_projects/mmdetection_sandbox/\n",
    "%pwd\n",
    "\n",
    "config_file = 'configs/retinanet/retinanet_r50_fpn_1x_coco.py'  #faster_rcnn_r50_fpn_1x_coco.py\n",
    "# download the checkpoint from model zoo and put it in `checkpoints/`\n",
    "# url:sudo wget https://download.openmmlab.com/mmdetection/v2.0/retinanet/retinanet_r50_fpn_1x_coco/retinanet_r50_fpn_1x_coco_20200130-c2398f9e.pth\n",
    "checkpoint_file = 'checkpoints/retinanet_r50_fpn_1x_coco_20200130-c2398f9e.pth' # faster_rcnn_r50_fpn_1x_coco_20200130-047c8118.pth"
   ]
  },
  {
   "cell_type": "code",
   "execution_count": null,
   "metadata": {},
   "outputs": [],
   "source": [
    "# build the model from a config file and a checkpoint file\n",
    "model = init_detector(config_file, checkpoint_file, device='cuda:0')"
   ]
  },
  {
   "cell_type": "code",
   "execution_count": null,
   "metadata": {},
   "outputs": [],
   "source": [
    "# test a single image\n",
    "img = 'demo/demo.jpg'\n",
    "result = inference_detector(model, img)"
   ]
  },
  {
   "cell_type": "code",
   "execution_count": null,
   "metadata": {},
   "outputs": [],
   "source": [
    "# show the results\n",
    "show_result_pyplot(model, img, result)"
   ]
  },
  {
   "cell_type": "code",
   "execution_count": null,
   "metadata": {},
   "outputs": [],
   "source": [
    "# Run Test inference test\n",
    "!python tools/test.py \\\n",
    "    configs/retinanet/retinanet_r50_fpn_1x_coco.py \\\n",
    "    checkpoints/retinanet_r50_fpn_1x_coco_20200130-c2398f9e.pth \\\n",
    "    --out results.pkl \\\n",
    "    --eval bbox segm #\\\n",
    "    #--show"
   ]
  },
  {
   "cell_type": "markdown",
   "metadata": {},
   "source": [
    "loading annotations into memory...\n",
    "Done (t=0.42s)\n",
    "creating index...\n",
    "index created!\n",
    "load checkpoint from local path: checkpoints/retinanet_r50_fpn_1x_coco_20200130-c2398f9e.pth\n",
    "[>>>>>>>>>>>>>>>>>>>>>>>>>>>>>>>>>>>>>>>>>>>>>>>>>>] 5000/5000, 4.0 task/s, elapsed: 1253s, ETA:     0s\n",
    "writing results to results.pkl\n",
    "\n",
    "Evaluating bbox...\n",
    "Loading and preparing results...\n",
    "DONE (t=1.36s)\n",
    "creating index...\n",
    "index created!\n",
    "Running per image evaluation...\n",
    "Evaluate annotation type *bbox*\n",
    "DONE (t=63.80s).\n",
    "Accumulating evaluation results...\n",
    "DONE (t=11.51s).\n",
    "\n",
    " Average Precision  (AP) @[ IoU=0.50:0.95 | area=   all | maxDets=100 ] = 0.365\n",
    " Average Precision  (AP) @[ IoU=0.50      | area=   all | maxDets=1000 ] = 0.554\n",
    " Average Precision  (AP) @[ IoU=0.75      | area=   all | maxDets=1000 ] = 0.391\n",
    " Average Precision  (AP) @[ IoU=0.50:0.95 | area= small | maxDets=1000 ] = 0.204\n",
    " Average Precision  (AP) @[ IoU=0.50:0.95 | area=medium | maxDets=1000 ] = 0.403\n",
    " Average Precision  (AP) @[ IoU=0.50:0.95 | area= large | maxDets=1000 ] = 0.481\n",
    " Average Recall     (AR) @[ IoU=0.50:0.95 | area=   all | maxDets=100 ] = 0.540\n",
    " Average Recall     (AR) @[ IoU=0.50:0.95 | area=   all | maxDets=300 ] = 0.540\n",
    " Average Recall     (AR) @[ IoU=0.50:0.95 | area=   all | maxDets=1000 ] = 0.540\n",
    " Average Recall     (AR) @[ IoU=0.50:0.95 | area= small | maxDets=1000 ] = 0.336\n",
    " Average Recall     (AR) @[ IoU=0.50:0.95 | area=medium | maxDets=1000 ] = 0.584\n",
    " Average Recall     (AR) @[ IoU=0.50:0.95 | area= large | maxDets=1000 ] = 0.691"
   ]
  },
  {
   "cell_type": "code",
   "execution_count": null,
   "metadata": {},
   "outputs": [],
   "source": [
    "# Run benchmark for FPS/S throughput\n",
    "!python tools/analysis_tools/benchmark.py \\\n",
    "    configs/retinanet/retinanet_r50_fpn_1x_coco.py \\\n",
    "    checkpoints/retinanet_r50_fpn_1x_coco_20200130-c2398f9e.pth \\\n",
    "    --fuse-conv-bn \\\n",
    "    --log-interval 50 "
   ]
  },
  {
   "cell_type": "markdown",
   "metadata": {},
   "source": [
    "loading annotations into memory...\n",
    "Done (t=0.46s)\n",
    "creating index...\n",
    "index created!\n",
    "load checkpoint from local path: checkpoints/retinanet_r50_fpn_1x_coco_20200130-c2398f9e.pth\n",
    "Done image [50 / 2000], fps: 4.1 img / s\n",
    "Done image [100/ 2000], fps: 4.0 img / s\n",
    "Done image [150/ 2000], fps: 4.0 img / s\n",
    "Done image [200/ 2000], fps: 4.1 img / s\n",
    "Done image [250/ 2000], fps: 4.0 img / s\n",
    "Done image [300/ 2000], fps: 4.1 img / s\n",
    "Done image [350/ 2000], fps: 4.1 img / s\n",
    "Done image [400/ 2000], fps: 4.1 img / s\n",
    "Done image [450/ 2000], fps: 4.1 img / s\n",
    "Done image [500/ 2000], fps: 4.1 img / s\n",
    "Done image [550/ 2000], fps: 4.1 img / s\n",
    "Done image [600/ 2000], fps: 4.1 img / s\n",
    "Done image [650/ 2000], fps: 4.1 img / s\n",
    "Done image [700/ 2000], fps: 4.1 img / s\n",
    "Done image [750/ 2000], fps: 4.1 img / s\n",
    "Done image [800/ 2000], fps: 4.1 img / s\n",
    "Done image [850/ 2000], fps: 4.1 img / s\n",
    "Done image [900/ 2000], fps: 4.1 img / s\n",
    "Done image [950/ 2000], fps: 4.1 img / s\n",
    "Done image [1000/ 2000], fps: 4.1 img / s\n",
    "Done image [1050/ 2000], fps: 4.1 img / s\n",
    "Done image [1100/ 2000], fps: 4.1 img / s\n",
    "Done image [1150/ 2000], fps: 4.1 img / s\n",
    "Done image [1200/ 2000], fps: 4.1 img / s\n",
    "Done image [1250/ 2000], fps: 4.1 img / s\n",
    "Done image [1300/ 2000], fps: 4.1 img / s\n",
    "Done image [1350/ 2000], fps: 4.1 img / s\n",
    "Done image [1400/ 2000], fps: 4.1 img / s\n",
    "Done image [1450/ 2000], fps: 4.1 img / s\n",
    "Done image [1500/ 2000], fps: 4.1 img / s\n",
    "Done image [1550/ 2000], fps: 4.1 img / s\n",
    "Done image [1600/ 2000], fps: 4.1 img / s\n",
    "Done image [1650/ 2000], fps: 4.1 img / s\n",
    "Done image [1700/ 2000], fps: 4.1 img / s\n",
    "Done image [1750/ 2000], fps: 4.1 img / s\n",
    "Done image [1800/ 2000], fps: 4.1 img / s\n",
    "Done image [1850/ 2000], fps: 4.1 img / s\n",
    "Done image [1900/ 2000], fps: 4.1 img / s\n",
    "Done image [1950/ 2000], fps: 4.1 img / s\n",
    "Done image [2000/ 2000], fps: 4.1 img / s\n",
    "Overall fps: 4.1 img / s"
   ]
  },
  {
   "cell_type": "code",
   "execution_count": null,
   "metadata": {},
   "outputs": [],
   "source": [
    "# Export to ONXX\n",
    "\n",
    "!python tools/deployment/pytorch2onnx.py \\\n",
    "    configs/retinanet/retinanet_r50_fpn_1x_coco.py \\\n",
    "    checkpoints/retinanet_r50_fpn_1x_coco_20200130-c2398f9e.pth \\\n",
    "    --output-file checkpoints/retinanet_r50_fpn_1x_coco.onnx \\\n",
    "    --input-img demo/demo.jpg \\\n",
    "    --shape 608 608 \\\n",
    "    --show \\\n",
    "    --verify"
   ]
  },
  {
   "cell_type": "code",
   "execution_count": null,
   "metadata": {},
   "outputs": [],
   "source": [
    "# Convert ONNX to tensor RT\n",
    "!python tools/deployment/onnx2tensorrt.py \\\n",
    "    configs/retinanet/retinanet_r50_fpn_1x_coco.py \\\n",
    "    checkpoints/retinanet_r50_fpn_1x_coco.onnx \\\n",
    "    --trt-file checkpoints/retinanet_r50_fpn_1x_coco.trt \\\n",
    "    --input-img demo/demo.jpg \\\n",
    "    --shape 400 600 \\\n",
    "    --show \\\n",
    "    --verify \\"
   ]
  }
 ],
 "metadata": {
  "interpreter": {
   "hash": "ab6e56d2820a4d3a11ddfd936a248dbc36c07a642d07bea60f78b6f43cfcb320"
  },
  "kernelspec": {
   "display_name": "Python 3.7.11 64-bit ('openmmlab': conda)",
   "language": "python",
   "name": "python3"
  },
  "language_info": {
   "codemirror_mode": {
    "name": "ipython",
    "version": 3
   },
   "file_extension": ".py",
   "mimetype": "text/x-python",
   "name": "python",
   "nbconvert_exporter": "python",
   "pygments_lexer": "ipython3",
   "version": "3.7.12"
  },
  "orig_nbformat": 4
 },
 "nbformat": 4,
 "nbformat_minor": 2
}
